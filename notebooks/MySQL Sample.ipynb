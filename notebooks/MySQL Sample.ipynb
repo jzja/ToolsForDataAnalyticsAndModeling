{
 "cells": [
  {
   "cell_type": "markdown",
   "metadata": {},
   "source": [
    "# MySQL/MariaDB Connection Test"
   ]
  },
  {
   "cell_type": "code",
   "execution_count": 1,
   "metadata": {},
   "outputs": [
    {
     "name": "stdout",
     "output_type": "stream",
     "text": [
      "Successfully connected....\n"
     ]
    }
   ],
   "source": [
    "# Setting Up\n",
    "import mysql.connector\n",
    "\n",
    "# connect to the database\n",
    "cnx = mysql.connector.connect(\n",
    "    user=\"insy6500\", \n",
    "    password=\"insy6500\", \n",
    "    host=\"localhost\", \n",
    "    database=\"insy6500\"\n",
    "    )\n",
    "print (\"Successfully connected....\")"
   ]
  },
  {
   "cell_type": "code",
   "execution_count": 2,
   "metadata": {},
   "outputs": [
    {
     "name": "stdout",
     "output_type": "stream",
     "text": [
      "Tables:\n",
      "\tairplane\n",
      "\talbum\n",
      "\tartist\n",
      "\tbooking\n",
      "\tcustomer\n",
      "\tflight\n",
      "\titems\n",
      "\tjob\n",
      "\torders\n",
      "\tpassenger\n",
      "\tplayed\n",
      "\tskus\n",
      "\tslots\n",
      "\ttrack\n",
      "Database closed.\n"
     ]
    }
   ],
   "source": [
    "# List the tables using a cursor object\n",
    "print (\"Tables:\")\n",
    "cursor = cnx.cursor()\n",
    "# this is the SQL query\n",
    "query = (\"show tables\")\n",
    "cursor.execute(query)\n",
    "for (db) in cursor:\n",
    "    print (\"\\t{}\".format(db[0]))\n",
    "cursor.close()\n",
    "print (\"Database closed.\")"
   ]
  },
  {
   "cell_type": "code",
   "execution_count": null,
   "metadata": {},
   "outputs": [],
   "source": []
  }
 ],
 "metadata": {
  "kernelspec": {
   "display_name": "Python 3",
   "language": "python",
   "name": "python3"
  },
  "language_info": {
   "codemirror_mode": {
    "name": "ipython",
    "version": 3
   },
   "file_extension": ".py",
   "mimetype": "text/x-python",
   "name": "python",
   "nbconvert_exporter": "python",
   "pygments_lexer": "ipython3",
   "version": "3.8.3"
  }
 },
 "nbformat": 4,
 "nbformat_minor": 4
}
